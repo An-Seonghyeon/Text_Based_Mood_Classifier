{
 "cells": [
  {
   "cell_type": "markdown",
   "id": "subsequent-velvet",
   "metadata": {},
   "source": [
    "# Text Based Mood Classifier (Team 10)\n",
    "\n",
    "### Project Description\n",
    "Because of COVID-19, many people are suffering from difficulties about mental health. Thus, this project aims to predict people’s emotional state from text data to prevent some mental illnesses. \n",
    " \n",
    "We classify some text messages by people into joy, fear, anger, and sadness to construct a prediction model and use it. In the process, we used NLP techniques and random forest algorithm. \n",
    " \n",
    "We expect that these attempts will help to develop application programs that can record a person's emotional changes and utilize it. For example, if the app detects any dangerous signals from the user, such as depression or suicide, it may be able to connect him/her to a counseling center, of course, based on a clear agreement of the user.\n",
    "\n",
    "### References\n",
    "[Emotion Classification NLP](https://www.kaggle.com/jorelmb/emotion-classification-nlp) : We refered to some preprocessing techniques from here.\n",
    "\n"
   ]
  },
  {
   "cell_type": "code",
   "execution_count": 44,
   "id": "recovered-bahrain",
   "metadata": {},
   "outputs": [
    {
     "name": "stdout",
     "output_type": "stream",
     "text": [
      "Requirement already satisfied: emoji in /Library/Frameworks/Python.framework/Versions/3.9/lib/python3.9/site-packages (1.2.0)\r\n"
     ]
    },
    {
     "name": "stderr",
     "output_type": "stream",
     "text": [
      "[nltk_data] Error loading stopwords: <urlopen error [SSL:\n",
      "[nltk_data]     CERTIFICATE_VERIFY_FAILED] certificate verify failed:\n",
      "[nltk_data]     unable to get local issuer certificate (_ssl.c:1123)>\n"
     ]
    }
   ],
   "source": [
    "from pprint import pprint\n",
    "!pip install emoji\n",
    "\n",
    "# Setup\n",
    "import os\n",
    "import re\n",
    "import time\n",
    "\n",
    "import emoji\n",
    "import matplotlib.pyplot as plt\n",
    "import numpy as np\n",
    "import pandas as pd\n",
    "import seaborn as sns\n",
    "import sklearn\n",
    "from keras_preprocessing.text import Tokenizer\n",
    "from sklearn.base import TransformerMixin\n",
    "from sklearn.ensemble import RandomForestClassifier\n",
    "from sklearn.feature_extraction.text import CountVectorizer\n",
    "from sklearn.metrics import confusion_matrix, accuracy_score, classification_report\n",
    "from sklearn.pipeline import Pipeline\n",
    "\n",
    "\n",
    "import nltk\n",
    "nltk.download('stopwords')\n",
    "from nltk.corpus import stopwords\n",
    "from sklearn.utils.validation import check_is_fitted\n",
    "\n",
    "%matplotlib inline\n",
    "sns.set_style('white')\n",
    "sns.set_context('notebook')\n",
    "\n",
    "random_state = 143"
   ]
  },
  {
   "cell_type": "markdown",
   "id": "distributed-mortality",
   "metadata": {},
   "source": [
    "## Load dataset\n",
    "[Data from Kaggle: Emotion Classification NLP](https://www.kaggle.com/anjaneyatripathi/emotion-classification-nlp)\n",
    "\n",
    ": Tweets classified based on 4 emotions - joy, sadness, anger and fear."
   ]
  },
  {
   "cell_type": "code",
   "execution_count": 30,
   "id": "valuable-gateway",
   "metadata": {},
   "outputs": [],
   "source": [
    "def load_emotion_data(dataset):\n",
    "    \"\"\"\n",
    "    Loads the required dataset from the emotions input\n",
    "    :param dataset:\n",
    "    :return:\n",
    "    \"\"\"\n",
    "    base_path = './archive/'\n",
    "    dataset_name = 'emotion-labels-%s.csv' % dataset\n",
    "\n",
    "    data = pd.read_csv(os.path.join(base_path, dataset_name))\n",
    "    return data['text'].values, data['label'].values\n",
    "\n",
    "train_X, train_y = load_emotion_data('train')\n",
    "val_X, val_y = load_emotion_data('val')\n",
    "test_X, test_y = load_emotion_data('test')\n"
   ]
  },
  {
   "cell_type": "markdown",
   "id": "prime-identification",
   "metadata": {},
   "source": [
    "## NLP Processing\n",
    "\n",
    "### Vectorizer \n",
    "We decide to use vectorizer to apply sentences that have completed NLP preprocessing to the random forest model."
   ]
  },
  {
   "cell_type": "code",
   "execution_count": 31,
   "id": "small-reservoir",
   "metadata": {},
   "outputs": [],
   "source": [
    "vectorizer = CountVectorizer()\n",
    "vectorizer.fit(train_X)\n",
    "\n",
    "vocabulary = pd.DataFrame(vectorizer.vocabulary_.items(), columns=['word', 'count'])\n",
    "vocabulary['length'] = vocabulary.apply(lambda x: len(x[0]), axis=1)"
   ]
  },
  {
   "cell_type": "markdown",
   "id": "modified-presence",
   "metadata": {},
   "source": [
    "### Lower\n",
    "This is a new class using what we've learned. This class changes all sentences to lowercase to remove the stop word later."
   ]
  },
  {
   "cell_type": "code",
   "execution_count": 32,
   "id": "resistant-blast",
   "metadata": {},
   "outputs": [
    {
     "name": "stdout",
     "output_type": "stream",
     "text": [
      "0    just got back from seeing @garydelaney in burs...\n",
      "1    oh dear an evening of absolute hilarity i don'...\n",
      "2    been waiting all week for this game ❤️❤️❤️ #ch...\n",
      "3    @gardiner_love : thank you so much, gloria! yo...\n",
      "4    i feel so blessed to work with the family that...\n",
      "5    today i reached 1000 subscribers on yt!! , #go...\n",
      "6    @singaholic121 good morning, love! happy first...\n",
      "7    #bridgetjonesbaby is the best thing i've seen ...\n",
      "8    just got back from seeing @garydelaney in burs...\n",
      "9    @indymn i thought the holidays could not get a...\n",
      "dtype: object\n"
     ]
    }
   ],
   "source": [
    "class Lower(TransformerMixin):\n",
    "    def fit(self, X):\n",
    "        return self\n",
    "\n",
    "    def transform(self, X):\n",
    "        values = pd.Series(X)\n",
    "        \n",
    "        for i in range(values.size):\n",
    "            values[i] = values[i].lower()\n",
    "        \n",
    "        return values\n",
    "\n",
    "lower_words = Lower()\n",
    "print(lower_words.fit_transform(train_X[:10]))"
   ]
  },
  {
   "cell_type": "markdown",
   "id": "swedish-dress",
   "metadata": {},
   "source": [
    "### Remove Handles & Coded values\n",
    "Since the dataset is from Twitter, we need to erase things like ID tags(@), ect."
   ]
  },
  {
   "cell_type": "code",
   "execution_count": 33,
   "id": "acute-tissue",
   "metadata": {},
   "outputs": [
    {
     "name": "stdout",
     "output_type": "stream",
     "text": [
      "['just got back from seeing  in burslem. amazing!! face still hurts from laughing so much #hilarious'\n",
      " \"oh dear an evening of absolute hilarity i don't think i have laughed so much in a long time! 😂\"\n",
      " 'been waiting all week for this game ❤️❤️❤️ #cheer #friday ❤️'\n",
      " \" : thank you so much, gloria! you're so sweet, and thoughtful! you just made my day more joyful! i love you too! 😊💕\"\n",
      " 'i feel so blessed to work with the family that i nanny for ❤️ nothing but love &amp; appreciation, makes me smile.'\n",
      " 'today i reached 1000 subscribers on yt!! , #goodday, #thankful'\n",
      " \" good morning, love! happy first day of fall. let's make some awesome #autumnmemories #annabailey #laughter #smile\"\n",
      " \"#bridgetjonesbaby is the best thing i've seen in ages! so funny, i've missed bridget! #love  #teammark\"\n",
      " 'just got back from seeing  in burslem. amazing!! face still hurts from laughing so much '\n",
      " ' i thought the holidays could not get any more cheerful, and then i met you. #thenicebot']\n"
     ]
    }
   ],
   "source": [
    "class RemoveHandles(TransformerMixin):\n",
    "    def fit(self, X):\n",
    "        return self\n",
    "\n",
    "    def transform(self, X):\n",
    "        values = pd.Series(X)\n",
    "        return values.replace(r'@\\w+', '', regex=True).values\n",
    "\n",
    "remove_handles = RemoveHandles()\n",
    "print(remove_handles.fit_transform(train_X[:10]))"
   ]
  },
  {
   "cell_type": "code",
   "execution_count": 34,
   "id": "female-bloom",
   "metadata": {},
   "outputs": [],
   "source": [
    "class RemoveCodedValues(TransformerMixin):\n",
    "    def fit(self, X):\n",
    "        return self\n",
    "\n",
    "    def transform(self, X):\n",
    "        values = pd.Series(X)\n",
    "        return values.replace(r'&\\w+;', '', regex=True).values\n",
    "\n",
    "remove_coded = RemoveCodedValues()\n",
    "\n",
    "pat = re.compile(r'&\\w+;')\n",
    "for f in remove_coded.fit_transform(train_X):\n",
    "    found = pat.findall(f)\n",
    "    if len(found) > 0:\n",
    "        print(pat.findall(f))"
   ]
  },
  {
   "cell_type": "markdown",
   "id": "complex-genealogy",
   "metadata": {},
   "source": [
    "### Process emojies\n",
    "Emoticons are an important factor in expressing emotions. Thus, we need to change the emojies to a form that the model can handle."
   ]
  },
  {
   "cell_type": "code",
   "execution_count": 35,
   "id": "played-compact",
   "metadata": {},
   "outputs": [
    {
     "name": "stdout",
     "output_type": "stream",
     "text": [
      "{'just': 56, 'got': 45, 'back': 13, 'from': 36, 'seeing': 82, 'garydelaney': 40, 'in': 52, 'burslem': 19, 'amazing': 4, 'face': 28, 'still': 89, 'hurts': 51, 'laughing': 58, 'so': 87, 'much': 71, 'hilarious': 48, 'oh': 77, 'dear': 25, 'an': 6, 'evening': 27, 'of': 76, 'absolute': 1, 'hilarity': 49, 'don': 26, 'think': 100, 'have': 47, 'laughed': 57, 'long': 61, 'time': 104, 'face_with_tears_of_joy': 29, 'been': 14, 'waiting': 110, 'all': 3, 'week': 111, 'for': 34, 'this': 101, 'game': 38, 'red_heart': 81, 'cheer': 21, 'friday': 35, 'gardiner_love': 39, 'thank': 93, 'you': 114, 'gloria': 42, 're': 79, 'sweet': 91, 'and': 7, 'thoughtful': 103, 'made': 63, 'my': 72, 'day': 24, 'more': 69, 'joyful': 55, 'love': 62, 'too': 107, 'smiling_face_with_smiling_eyes': 86, 'two_hearts': 108, 'feel': 32, 'blessed': 16, 'to': 105, 'work': 113, 'with': 112, 'the': 96, 'family': 31, 'that': 95, 'nanny': 73, 'nothing': 75, 'but': 20, 'amp': 5, 'appreciation': 10, 'makes': 65, 'me': 66, 'smile': 85, 'today': 106, 'reached': 80, '1000': 0, 'subscribers': 90, 'on': 78, 'yt': 115, 'goodday': 44, 'thankful': 94, 'singaholic121': 84, 'good': 43, 'morning': 70, 'happy': 46, 'first': 33, 'fall': 30, 'let': 60, 'make': 64, 'some': 88, 'awesome': 12, 'autumnmemories': 11, 'annabailey': 8, 'laughter': 59, 'bridgetjonesbaby': 18, 'is': 54, 'best': 15, 'thing': 99, 've': 109, 'seen': 83, 'ages': 2, 'funny': 37, 'missed': 68, 'bridget': 17, 'teammark': 92, 'indymn': 53, 'thought': 102, 'holidays': 50, 'could': 23, 'not': 74, 'get': 41, 'any': 9, 'cheerful': 22, 'then': 97, 'met': 67, 'thenicebot': 98}\n"
     ]
    }
   ],
   "source": [
    "class TokenizeEmoji(TransformerMixin):\n",
    "    def fit(self, X):\n",
    "        return self\n",
    "\n",
    "    def transform(self, X):\n",
    "        return np.array([emoji.demojize(text) for text in X])\n",
    "\n",
    "tokenize_emoji = TokenizeEmoji()\n",
    "test = tokenize_emoji.fit_transform(train_X[:10])\n",
    "\n",
    "vectorizer.fit(test)\n",
    "print(vectorizer.vocabulary_)"
   ]
  },
  {
   "cell_type": "code",
   "execution_count": 36,
   "id": "elect-professional",
   "metadata": {},
   "outputs": [
    {
     "name": "stdout",
     "output_type": "stream",
     "text": [
      "{':/': '<EMOJI_0>', '/:': '<EMOJI_1>', ';)': '<EMOJI_2>', 'xD': '<EMOJI_3>', ':(': '<EMOJI_4>', 'x)': '<EMOJI_5>', 'XD': '<EMOJI_6>', '):': '<EMOJI_7>', ':)': '<EMOJI_8>'}\n"
     ]
    }
   ],
   "source": [
    "class Emojifier(TransformerMixin):\n",
    "    \"\"\"\n",
    "    Converts characters like :) :( :/ to a unique value\n",
    "    \"\"\"\n",
    "    def __init__(self, emoji_pattern=r'[:;Xx][)(\\/D]|[)(\\/D][:;]'):\n",
    "        self.emoji_pattern = emoji_pattern\n",
    "\n",
    "    def fit(self, X):\n",
    "        emoji_list = set()\n",
    "        pattern = re.compile(self.emoji_pattern)\n",
    "\n",
    "        for line in X:\n",
    "            emoji_list.update(pattern.findall(line))\n",
    "\n",
    "\n",
    "        self.found_emojis_ = {}\n",
    "        for i, emoji in enumerate(emoji_list):\n",
    "            self.found_emojis_[emoji] = '<EMOJI_%d>' % i\n",
    "\n",
    "        return self\n",
    "\n",
    "    def transform(self, X):\n",
    "        # Validate\n",
    "        check_is_fitted(self, ['found_emojis_'])\n",
    "\n",
    "        # Transform\n",
    "        data = pd.Series(X)\n",
    "        for emoji, name in self.found_emojis_.items():\n",
    "            data = data.str.replace(emoji, name, regex=False)\n",
    "\n",
    "        return data.values\n",
    "\n",
    "emojifier = Emojifier()\n",
    "emojifier.fit(train_X)\n",
    "print(emojifier.found_emojis_)\n",
    "\n",
    "emojified_X = emojifier.transform(train_X)"
   ]
  },
  {
   "cell_type": "markdown",
   "id": "adolescent-ethnic",
   "metadata": {},
   "source": [
    "This is for chicking if the Emojifier works well."
   ]
  },
  {
   "cell_type": "code",
   "execution_count": 37,
   "id": "dated-coach",
   "metadata": {},
   "outputs": [
    {
     "name": "stdout",
     "output_type": "stream",
     "text": [
      "{':)', ';)'}\n",
      "23 Online now !!!:) all day come play with me !! I'm happy happy horny playful sweet sour;) joy\n",
      "23 Online now !!!<EMOJI_8> all day come play with me !! I'm happy happy horny playful sweet sour<EMOJI_2>\n",
      "{':)'}\n",
      "25 @itsyourgirl_Z happy birthday :) have a blessed day love from Toronto :) #bday  joy\n",
      "25 @itsyourgirl_Z happy birthday <EMOJI_8> have a blessed day love from Toronto <EMOJI_8> #bday \n",
      "{':)'}\n",
      "27 Morning all! Of course it is sunny on this Monday morning to cheerfully welcome us back to work.:) joy\n",
      "27 Morning all! Of course it is sunny on this Monday morning to cheerfully welcome us back to work.<EMOJI_8>\n",
      "{'):'}\n",
      "30 Retweeted GunnySmith93 (@Stephen21Smith):\\n\\nDays like today I am happy to be alive! #blessed #rejoice joy\n",
      "30 Retweeted GunnySmith93 (@Stephen21Smith<EMOJI_7>\\n\\nDays like today I am happy to be alive! #blessed #rejoice\n",
      "{'):'}\n",
      "48 Retweeted GunnySmith93 (@Stephen21Smith):\\n\\nDays like today I am happy to be alive! #blessed  joy\n",
      "48 Retweeted GunnySmith93 (@Stephen21Smith<EMOJI_7>\\n\\nDays like today I am happy to be alive! #blessed \n",
      "{';)'}\n",
      "73 TheNiceBot: melbjs ;) Here is a smile and a wink from across the web. #TheNiceBot joy\n",
      "73 TheNiceBot: melbjs <EMOJI_2> Here is a smile and a wink from across the web. #TheNiceBot\n"
     ]
    }
   ],
   "source": [
    "for i, val in enumerate(train_X[:100]):\n",
    "    m = re.findall(r'[:;Xx][)(\\/D]|[)(\\/D][:;x]', val)\n",
    "    if len(m) > 0:\n",
    "        print(set(m))\n",
    "        print(i, val, train_y[i])\n",
    "        print(i, emojified_X[i])"
   ]
  },
  {
   "cell_type": "markdown",
   "id": "female-brush",
   "metadata": {},
   "source": [
    "### Remove Stopwords\n",
    "This is alos a new class using what we've learned."
   ]
  },
  {
   "cell_type": "code",
   "execution_count": 38,
   "id": "stylish-royalty",
   "metadata": {
    "scrolled": true
   },
   "outputs": [
    {
     "name": "stdout",
     "output_type": "stream",
     "text": [
      "0    got back seeing @garydelaney burslem. amazing!...\n",
      "1    oh dear evening absolute hilarity think laughe...\n",
      "2          waiting week game ❤️❤️❤️ #cheer #friday ❤️ \n",
      "3    @gardiner_love : thank much, gloria! sweet, th...\n",
      "4    feel blessed work family nanny ❤️ nothing love...\n",
      "5    today reached 1000 subscribers yt!! , #goodday...\n",
      "6    @singaholic121 good morning, love! happy first...\n",
      "7    #bridgetjonesbaby best thing i've seen ages! f...\n",
      "8    got back seeing @garydelaney burslem. amazing!...\n",
      "9    @indymn thought holidays could get cheerful, m...\n",
      "dtype: object\n"
     ]
    }
   ],
   "source": [
    "class RemoveStopWords(TransformerMixin):\n",
    "    def fit(self, X):\n",
    "        return self\n",
    "\n",
    "    def transform(self, X):\n",
    "        values = pd.Series(X)\n",
    "        \n",
    "        stop_words = set(stopwords.words('english'))\n",
    "        \n",
    "        for i in range(values.size):\n",
    "            temp = \"\"\n",
    "            tokenize = values[i].split()\n",
    "            for tok in tokenize:\n",
    "                if tok not in stop_words:\n",
    "                    temp = temp + tok + \" \"\n",
    "            values[i] = temp\n",
    "        \n",
    "        return values\n",
    "\n",
    "remove_stopwords = RemoveStopWords()\n",
    "print(remove_stopwords.fit_transform(train_X[:10]))\n",
    "    "
   ]
  },
  {
   "cell_type": "markdown",
   "id": "surprised-heather",
   "metadata": {},
   "source": [
    "## Pipeline\n",
    "Applying all the processes so far to the dataset in order via pipeline."
   ]
  },
  {
   "cell_type": "code",
   "execution_count": 39,
   "id": "champion-defensive",
   "metadata": {},
   "outputs": [],
   "source": [
    "pipeline = Pipeline([\n",
    "    (\"nlp\", Lower()),\n",
    "    ('handles', RemoveHandles()),\n",
    "    ('coded', RemoveCodedValues()),\n",
    "    ('emoji', TokenizeEmoji()),\n",
    "    ('emojify', Emojifier()),\n",
    "    ('stopword', RemoveStopWords()),\n",
    "    ('counts', CountVectorizer())\n",
    "])\n",
    "\n",
    "prepared_train_X = pipeline.fit_transform(train_X)"
   ]
  },
  {
   "cell_type": "markdown",
   "id": "described-judges",
   "metadata": {},
   "source": [
    "## Apply Random Forest"
   ]
  },
  {
   "cell_type": "code",
   "execution_count": 40,
   "id": "unable-calgary",
   "metadata": {},
   "outputs": [
    {
     "data": {
      "text/plain": [
       "RandomForestClassifier(n_jobs=8, random_state=143)"
      ]
     },
     "execution_count": 40,
     "metadata": {},
     "output_type": "execute_result"
    }
   ],
   "source": [
    "rforest =  RandomForestClassifier(random_state=random_state, n_jobs=8)\n",
    "rforest.fit(prepared_train_X, train_y)"
   ]
  },
  {
   "cell_type": "code",
   "execution_count": 41,
   "id": "martial-repository",
   "metadata": {},
   "outputs": [
    {
     "name": "stdout",
     "output_type": "stream",
     "text": [
      "Accuracy on validation: 0.8414985590778098\n"
     ]
    },
    {
     "data": {
      "image/png": "[encoded data removed]",
      "text/plain": [
       "<Figure size 720x360 with 2 Axes>"
      ]
     },
     "metadata": {
      "needs_background": "light"
     },
     "output_type": "display_data"
    }
   ],
   "source": [
    "val_X_transformed = pipeline.transform(val_X)\n",
    "val_y_predicted = rforest.predict(val_X_transformed)\n",
    "\n",
    "accuracy = accuracy_score(val_y, val_y_predicted)\n",
    "print('Accuracy on validation:', accuracy)\n",
    "\n",
    "conf_matrix = confusion_matrix(val_y, val_y_predicted, normalize='true')\n",
    "conf_matrix = pd.DataFrame(conf_matrix, columns=rforest.classes_, index=rforest.classes_)\n",
    "\n",
    "\n",
    "plt.figure(figsize=(10, 5))\n",
    "sns.heatmap(conf_matrix, annot=True, fmt='.5f')\n",
    "plt.show()"
   ]
  },
  {
   "cell_type": "markdown",
   "id": "animal-arnold",
   "metadata": {},
   "source": [
    "## Result\n",
    "We receive a sentence and classify the emotion of that sentence "
   ]
  },
  {
   "cell_type": "code",
   "execution_count": 125,
   "id": "promising-infrastructure",
   "metadata": {},
   "outputs": [
    {
     "name": "stdout",
     "output_type": "stream",
     "text": [
      "Text: hello! nice to see you\n"
     ]
    }
   ],
   "source": [
    "input_text = input(\"Text: \")"
   ]
  },
  {
   "cell_type": "code",
   "execution_count": 126,
   "id": "comic-vision",
   "metadata": {},
   "outputs": [
    {
     "name": "stdout",
     "output_type": "stream",
     "text": [
      "hello! nice to see you\n"
     ]
    }
   ],
   "source": [
    "print(input_text)"
   ]
  },
  {
   "cell_type": "code",
   "execution_count": 127,
   "id": "optimum-sense",
   "metadata": {},
   "outputs": [
    {
     "name": "stdout",
     "output_type": "stream",
     "text": [
      "['fear']\n"
     ]
    }
   ],
   "source": [
    "input_text_transformed = pipeline.transform(input_text)\n",
    "input_predict = rforest.predict(input_text_transformed)\n",
    "\n",
    "print(input_predict)"
   ]
  }
 ],
 "metadata": {
  "kernelspec": {
   "display_name": "Python 3",
   "language": "python",
   "name": "python3"
  },
  "language_info": {
   "codemirror_mode": {
    "name": "ipython",
    "version": 3
   },
   "file_extension": ".py",
   "mimetype": "text/x-python",
   "name": "python",
   "nbconvert_exporter": "python",
   "pygments_lexer": "ipython3",
   "version": "3.9.2"
  }
 },
 "nbformat": 4,
 "nbformat_minor": 5
}
